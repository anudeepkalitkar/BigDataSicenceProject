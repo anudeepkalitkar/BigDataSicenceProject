{
 "cells": [
  {
   "cell_type": "code",
   "execution_count": 1,
   "metadata": {},
   "outputs": [],
   "source": [
    "import pandas as pd\n",
    "import os\n",
    "from pandas import DataFrame\n",
    "from metadata import BICYCLEMETADATA"
   ]
  },
  {
   "cell_type": "code",
   "execution_count": null,
   "metadata": {},
   "outputs": [],
   "source": []
  },
  {
   "cell_type": "code",
   "execution_count": 2,
   "metadata": {},
   "outputs": [],
   "source": [
    "def DropColumns(dataFrame: DataFrame, renameColumns: dict, columnsRetain: list = ['day','Total']) -> DataFrame:\n",
    "    dataFrame = dataFrame[columnsRetain]\n",
    "    dataFrame = dataFrame.rename(columns=renameColumns)\n",
    "    return dataFrame\n"
   ]
  },
  {
   "cell_type": "code",
   "execution_count": 3,
   "metadata": {},
   "outputs": [],
   "source": [
    "def ConvertDaytoDateTime(dataFrame: DataFrame) -> DataFrame:\n",
    "    dataFrame['day'] = pd.to_datetime(dataFrame['day'])\n",
    "    dataFrame = dataFrame.sort_values(by='day')\n",
    "    return dataFrame\n"
   ]
  },
  {
   "cell_type": "code",
   "execution_count": 4,
   "metadata": {},
   "outputs": [],
   "source": [
    "def Get1HrIntervals(dataFrame: DataFrame, columnName: str) -> DataFrame:\n",
    "    dataFrame = dataFrame.resample('1H', on=columnName).sum().reset_index()\n",
    "    return dataFrame\n",
    "    "
   ]
  },
  {
   "cell_type": "code",
   "execution_count": 5,
   "metadata": {},
   "outputs": [],
   "source": [
    "def ConcatDataFrames(dataFrames: list) -> DataFrame:\n",
    "    dataFrame = pd.concat(dataFrames, axis=1)\n",
    "    retainColumns = ~dataFrame.columns.duplicated()\n",
    "    dataFrame = dataFrame.loc[:,retainColumns]\n",
    "    return dataFrame\n",
    "    "
   ]
  },
  {
   "cell_type": "code",
   "execution_count": 6,
   "metadata": {},
   "outputs": [],
   "source": [
    "def LoadDataSet(folderPath: str, metaData: list) -> DataFrame:\n",
    "    if(os.path.isdir(folderPath) and folderPath[-1]!=\"/\"):\n",
    "        print(\"enter a valid folderPath\")\n",
    "    else:\n",
    "        finalDataFrame = None\n",
    "        files = os.listdir(folderPath)\n",
    "        # for filename in files:\n",
    "        #     print(\"Reading DataSet from\", filename)\n",
    "        #     dataFrame =  pd.read_csv(folderPath+filename, index_col=None, header=0)\n",
    "        for data in metaData:\n",
    "            print(\"Reading DataSet from\", data['filename'])\n",
    "            dataFrame =  pd.read_csv(folderPath+data['filename'], index_col=None, header=0)\n",
    "            dataFrame = ConvertDaytoDateTime(dataFrame)\n",
    "            dataFrame = Get1HrIntervals(dataFrame, 'day')\n",
    "            dataFrame = DropColumns(dataFrame, renameColumns=data['renameColumns'] )\n",
    "            dataFrame['Zipcode'] = data['Zipcode']\n",
    "            DFColumns = list(dataFrame.columns)\n",
    "            columnsRearrange = [DFColumns[0], DFColumns[-1]] +  DFColumns[1:-1]\n",
    "            dataFrame = dataFrame[columnsRearrange]\n",
    "            if(type(finalDataFrame) == type(None)):\n",
    "                finalDataFrame = dataFrame\n",
    "            else:\n",
    "                finalDataFrame = pd.merge(finalDataFrame, dataFrame, on=['day','Zipcode' ], how='outer')\n",
    "                \n",
    "            \n",
    "    # dataFrame = ConcatDataFrames(dataFrames)\n",
    "    return finalDataFrame"
   ]
  },
  {
   "cell_type": "code",
   "execution_count": 7,
   "metadata": {},
   "outputs": [],
   "source": [
    "folderPath = \"Dataset/Bicycle Dataset/\""
   ]
  },
  {
   "cell_type": "code",
   "execution_count": 8,
   "metadata": {},
   "outputs": [
    {
     "name": "stdout",
     "output_type": "stream",
     "text": [
      "Reading DataSet from Colorado_and_30th_Northbound.csv\n",
      "Reading DataSet from Colorado_and_30th_Southbound.csv\n",
      "Reading DataSet from Colorado_and_30th_Westbound.csv\n"
     ]
    },
    {
     "data": {
      "text/plain": [
       "Index(['day', 'Zipcode', 'NorthBound', 'SouthBound', 'WestBound'], dtype='object')"
      ]
     },
     "execution_count": 8,
     "metadata": {},
     "output_type": "execute_result"
    }
   ],
   "source": [
    "dataFrame = LoadDataSet(folderPath, BICYCLEMETADATA)\n",
    "dataFrame.columns"
   ]
  },
  {
   "cell_type": "code",
   "execution_count": 9,
   "metadata": {},
   "outputs": [],
   "source": [
    "dataFrame = dataFrame.dropna()"
   ]
  },
  {
   "cell_type": "code",
   "execution_count": 10,
   "metadata": {},
   "outputs": [
    {
     "data": {
      "text/html": [
       "<div>\n",
       "<style scoped>\n",
       "    .dataframe tbody tr th:only-of-type {\n",
       "        vertical-align: middle;\n",
       "    }\n",
       "\n",
       "    .dataframe tbody tr th {\n",
       "        vertical-align: top;\n",
       "    }\n",
       "\n",
       "    .dataframe thead th {\n",
       "        text-align: right;\n",
       "    }\n",
       "</style>\n",
       "<table border=\"1\" class=\"dataframe\">\n",
       "  <thead>\n",
       "    <tr style=\"text-align: right;\">\n",
       "      <th></th>\n",
       "      <th>day</th>\n",
       "      <th>Zipcode</th>\n",
       "      <th>NorthBound</th>\n",
       "      <th>SouthBound</th>\n",
       "      <th>WestBound</th>\n",
       "    </tr>\n",
       "  </thead>\n",
       "  <tbody>\n",
       "    <tr>\n",
       "      <th>0</th>\n",
       "      <td>2017-08-01 00:00:00</td>\n",
       "      <td>80203</td>\n",
       "      <td>1</td>\n",
       "      <td>2.0</td>\n",
       "      <td>2.0</td>\n",
       "    </tr>\n",
       "    <tr>\n",
       "      <th>1</th>\n",
       "      <td>2017-08-01 01:00:00</td>\n",
       "      <td>80203</td>\n",
       "      <td>0</td>\n",
       "      <td>1.0</td>\n",
       "      <td>0.0</td>\n",
       "    </tr>\n",
       "    <tr>\n",
       "      <th>2</th>\n",
       "      <td>2017-08-01 02:00:00</td>\n",
       "      <td>80203</td>\n",
       "      <td>1</td>\n",
       "      <td>0.0</td>\n",
       "      <td>0.0</td>\n",
       "    </tr>\n",
       "    <tr>\n",
       "      <th>3</th>\n",
       "      <td>2017-08-01 03:00:00</td>\n",
       "      <td>80203</td>\n",
       "      <td>0</td>\n",
       "      <td>0.0</td>\n",
       "      <td>0.0</td>\n",
       "    </tr>\n",
       "    <tr>\n",
       "      <th>4</th>\n",
       "      <td>2017-08-01 04:00:00</td>\n",
       "      <td>80203</td>\n",
       "      <td>0</td>\n",
       "      <td>0.0</td>\n",
       "      <td>0.0</td>\n",
       "    </tr>\n",
       "  </tbody>\n",
       "</table>\n",
       "</div>"
      ],
      "text/plain": [
       "                  day  Zipcode  NorthBound  SouthBound  WestBound\n",
       "0 2017-08-01 00:00:00    80203           1         2.0        2.0\n",
       "1 2017-08-01 01:00:00    80203           0         1.0        0.0\n",
       "2 2017-08-01 02:00:00    80203           1         0.0        0.0\n",
       "3 2017-08-01 03:00:00    80203           0         0.0        0.0\n",
       "4 2017-08-01 04:00:00    80203           0         0.0        0.0"
      ]
     },
     "execution_count": 10,
     "metadata": {},
     "output_type": "execute_result"
    }
   ],
   "source": [
    "dataFrame.head()"
   ]
  },
  {
   "cell_type": "code",
   "execution_count": 11,
   "metadata": {},
   "outputs": [
    {
     "data": {
      "text/plain": [
       "(55032, 5)"
      ]
     },
     "execution_count": 11,
     "metadata": {},
     "output_type": "execute_result"
    }
   ],
   "source": [
    "dataFrame.shape\n",
    "#2293 x 5"
   ]
  },
  {
   "cell_type": "code",
   "execution_count": null,
   "metadata": {},
   "outputs": [],
   "source": []
  }
 ],
 "metadata": {
  "kernelspec": {
   "display_name": "Python 3",
   "language": "python",
   "name": "python3"
  },
  "language_info": {
   "codemirror_mode": {
    "name": "ipython",
    "version": 3
   },
   "file_extension": ".py",
   "mimetype": "text/x-python",
   "name": "python",
   "nbconvert_exporter": "python",
   "pygments_lexer": "ipython3",
   "version": "3.9.2rc1"
  }
 },
 "nbformat": 4,
 "nbformat_minor": 2
}
