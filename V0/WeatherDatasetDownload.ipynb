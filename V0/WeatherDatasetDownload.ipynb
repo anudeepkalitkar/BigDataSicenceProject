{
 "cells": [
  {
   "cell_type": "code",
   "execution_count": 1,
   "metadata": {},
   "outputs": [],
   "source": [
    "import json\n",
    "import math\n",
    "import requests\n",
    "import pandas as pd\n",
    "from datetime import datetime, timedelta\n",
    "from Creds import *\n",
    "from tqdm import tqdm"
   ]
  },
  {
   "cell_type": "code",
   "execution_count": 2,
   "metadata": {},
   "outputs": [],
   "source": [
    "mainZipCode = 80309\n"
   ]
  },
  {
   "cell_type": "code",
   "execution_count": 3,
   "metadata": {},
   "outputs": [],
   "source": [
    "# aerisWeatherURL = f'https://api.aerisapi.com/conditions/80309?format=json&from={fromDateStr}&to={toDateStr}&plimit=24&filter=1hr&fields=periods.tempF,periods.dateTimeISO,periods.dewpointF,periods.windSpeedMPH,periods.windDir,periods.weather&client_id={clientID}&client_secret={clientSecret}'\n",
    "\n"
   ]
  },
  {
   "cell_type": "code",
   "execution_count": 4,
   "metadata": {},
   "outputs": [],
   "source": [
    "def CalculateCompassAngle(fromLat: float, fromLong: float, toLat: float, toLong: float) -> int:\n",
    "    fromLat = math.radians(fromLat)\n",
    "    toLat = math.radians(toLat)\n",
    "    longDiff = math.radians(toLong - fromLong)\n",
    "\n",
    "    x = math.sin(longDiff) * math.cos(toLat)\n",
    "    y = math.cos(fromLat) * math.sin(toLat) - (math.sin(fromLat) * math.cos(toLat) * math.cos(longDiff))\n",
    "    actualAngle = math.atan2(x, y)\n",
    "\n",
    "    actualAngle = math.degrees(actualAngle)\n",
    "    compassAngle = (actualAngle + 360) % 360\n",
    "\n",
    "    return int(compassAngle)"
   ]
  },
  {
   "cell_type": "code",
   "execution_count": 5,
   "metadata": {},
   "outputs": [],
   "source": [
    "def GetCompassDirection(angle: int) -> str:\n",
    "    directions = [\"North\", \"Northeast\", \"East\", \"Southeast\", \"South\", \"Southwest\", \"West\", \"Northwest\"]\n",
    "    return directions[int((angle + 22.5) % 360 / 45)]\n"
   ]
  },
  {
   "cell_type": "code",
   "execution_count": 6,
   "metadata": {},
   "outputs": [
    {
     "name": "stdout",
     "output_type": "stream",
     "text": [
      "{'North': 24.94578, 'East': 28.22693, 'South': 29.15415, 'West': 21.20428}\n",
      "{'North': 80540, 'East': 80614, 'South': 80402, 'West': 80481, 'currentLocation': 80309}\n"
     ]
    }
   ],
   "source": [
    "def GetNearbyZipCodes(presentZipcode: int,  geonamesUsername: str, radius: int = 30, maxRows: int = 100, country: str = 'US', minimumDistance: int = 10  ) -> dict:\n",
    "    geonamesURL = f'http://api.geonames.org/findNearbyPostalCodesJSON?postalcode={presentZipcode}&maxRows={maxRows}&country={country}&radius={radius}&username={geonamesUsername}'\n",
    "    allZipcodes = []\n",
    "    responseJson = {}\n",
    "    nearestZipCodes = {'North': None, 'East': None, 'South': None, 'West': None}\n",
    "    nearestDistances = {'North': minimumDistance, 'East': minimumDistance, 'South': minimumDistance, 'West': minimumDistance}\n",
    "    \n",
    "    response = requests.get(geonamesURL)\n",
    "    if(response.status_code == 200):\n",
    "        responseJson = response.json()\n",
    "    else:\n",
    "        return {\"Error\" :str(response.status_code)}\n",
    "    \n",
    "    locationsDF = pd.DataFrame(responseJson['postalCodes'])\n",
    "    locationsDF = locationsDF[['lat','lng', 'distance', 'postalCode' ]]\n",
    "    locationsDF = locationsDF.astype({'lat': 'float', 'lng': 'float', 'distance': 'float', 'postalCode': 'float'}, errors='ignore')\n",
    "    fromLocation = locationsDF[locationsDF['postalCode'] == presentZipcode].values[0]\n",
    "    nearByLocations = locationsDF[locationsDF['postalCode'] != presentZipcode ].values\n",
    "    \n",
    "    for location in nearByLocations:\n",
    "        compassAngle = CalculateCompassAngle(fromLocation[0], fromLocation[1], location[0], location[1])\n",
    "        direction = GetCompassDirection(compassAngle)\n",
    "        if(direction in  [\"North\", \"East\", \"South\", \"West\"]):\n",
    "            allZipcodes.append({\"zipCode\": location[3],'direction': direction, 'distance':location[2] })\n",
    "    \n",
    "    for zipcode in allZipcodes:\n",
    "        if(zipcode['distance'] > nearestDistances[zipcode['direction']]):\n",
    "            nearestDistances[zipcode['direction']] = zipcode['distance']\n",
    "            nearestZipCodes[zipcode['direction']] = int(zipcode['zipCode'])\n",
    "    print(nearestDistances)\n",
    "    nearestZipCodes['currentLocation'] = presentZipcode\n",
    "    return nearestZipCodes\n",
    "        \n",
    "nearestZipCodes = GetNearbyZipCodes(mainZipCode, GEONAMESUSERNAME  )\n",
    "print(nearestZipCodes)\n",
    "\n",
    "     "
   ]
  },
  {
   "cell_type": "code",
   "execution_count": 7,
   "metadata": {},
   "outputs": [],
   "source": [
    "#  {\n",
    "#     \"dateTimeISO\": \"2023-11-14T15:59:00-07:00\",\n",
    "#     \"tempF\": 68.81,\n",
    "#     \"dewpointF\": 8.17,\n",
    "#     \"weather\": \"Sunny\",\n",
    "#     \"windSpeedMPH\": 3.66,\n",
    "#     \"windDir\": \"SSW\"\n",
    "# }\n",
    "# {'North': 80304, 'East': 80027, 'South': 80305, 'West': 80308, 'currentLocation': 80309}\n",
    "\n"
   ]
  },
  {
   "cell_type": "code",
   "execution_count": 8,
   "metadata": {},
   "outputs": [],
   "source": [
    "def GetWeatherDatafromZipCode(zipcode: int, fromDateStr: str, toDateStr: str, clientID: str, clientSecret: str ):\n",
    "    aerisWeatherURL = f'https://api.aerisapi.com/conditions/{zipcode}?format=json&from={fromDateStr}&to={toDateStr}&plimit=24&filter=1hr&fields=periods.tempF,periods.dateTimeISO,periods.dewpointF,periods.windSpeedMPH,periods.windDir,periods.weather&client_id={clientID}&client_secret={clientSecret}'\n",
    "    response = requests.get(aerisWeatherURL)\n",
    "    if(response.status_code == 200):\n",
    "        weatherReport = response.json()['response'][0]['periods']\n",
    "        # weatherReport['zipcode'] = zipcode\n",
    "        return weatherReport\n",
    "    else:\n",
    "        return [{\"Error\" :str(response.status_code)}]\n",
    "\n",
    "# weatherReport = GetWeatherDatafromZipCode(80309, \"2017/08/01\", \"2017/08/02\", \"7XKKvv15LCntut54UVLdR\",\"Z3GLu5I6YAJ7wNuo1E4m02PSZ0efLN643Fhr66yx\")\n",
    "# print(weatherReport)\n"
   ]
  },
  {
   "cell_type": "code",
   "execution_count": 9,
   "metadata": {},
   "outputs": [
    {
     "name": "stderr",
     "output_type": "stream",
     "text": [
      "  0%|          | 1/2156 [00:00<17:34,  2.04it/s]"
     ]
    },
    {
     "name": "stdout",
     "output_type": "stream",
     "text": [
      "429\n"
     ]
    },
    {
     "name": "stderr",
     "output_type": "stream",
     "text": [
      " 12%|█▏        | 263/2156 [41:06<4:29:53,  8.55s/it]"
     ]
    },
    {
     "name": "stdout",
     "output_type": "stream",
     "text": [
      "429\n"
     ]
    },
    {
     "name": "stderr",
     "output_type": "stream",
     "text": [
      " 18%|█▊        | 380/2156 [58:58<4:19:08,  8.75s/it]"
     ]
    },
    {
     "name": "stdout",
     "output_type": "stream",
     "text": [
      "502\n",
      "502\n"
     ]
    },
    {
     "name": "stderr",
     "output_type": "stream",
     "text": [
      " 18%|█▊        | 381/2156 [59:08<4:23:50,  8.92s/it]"
     ]
    },
    {
     "name": "stdout",
     "output_type": "stream",
     "text": [
      "502\n"
     ]
    },
    {
     "name": "stderr",
     "output_type": "stream",
     "text": [
      " 31%|███       | 658/2156 [1:40:57<3:25:46,  8.24s/it]"
     ]
    },
    {
     "name": "stdout",
     "output_type": "stream",
     "text": [
      "429\n"
     ]
    },
    {
     "name": "stderr",
     "output_type": "stream",
     "text": [
      " 41%|████      | 876/2156 [2:23:21<4:35:14, 12.90s/it]"
     ]
    },
    {
     "name": "stdout",
     "output_type": "stream",
     "text": [
      "429\n"
     ]
    },
    {
     "name": "stderr",
     "output_type": "stream",
     "text": [
      " 52%|█████▏    | 1116/2156 [3:15:55<4:04:46, 14.12s/it]"
     ]
    },
    {
     "name": "stdout",
     "output_type": "stream",
     "text": [
      "429\n"
     ]
    },
    {
     "name": "stderr",
     "output_type": "stream",
     "text": [
      " 62%|██████▏   | 1345/2156 [4:08:34<2:58:36, 13.21s/it]"
     ]
    },
    {
     "name": "stdout",
     "output_type": "stream",
     "text": [
      "429\n"
     ]
    },
    {
     "name": "stderr",
     "output_type": "stream",
     "text": [
      " 73%|███████▎  | 1576/2156 [5:00:43<2:03:43, 12.80s/it]"
     ]
    },
    {
     "name": "stdout",
     "output_type": "stream",
     "text": [
      "429\n"
     ]
    },
    {
     "name": "stderr",
     "output_type": "stream",
     "text": [
      " 83%|████████▎ | 1796/2156 [5:53:23<1:19:43, 13.29s/it]"
     ]
    },
    {
     "name": "stdout",
     "output_type": "stream",
     "text": [
      "429\n"
     ]
    },
    {
     "name": "stderr",
     "output_type": "stream",
     "text": [
      " 94%|█████████▎| 2020/2156 [6:45:47<33:02, 14.58s/it]  "
     ]
    },
    {
     "name": "stdout",
     "output_type": "stream",
     "text": [
      "429\n"
     ]
    },
    {
     "name": "stderr",
     "output_type": "stream",
     "text": [
      "100%|██████████| 2156/2156 [7:14:16<00:00, 12.09s/it]\n"
     ]
    }
   ],
   "source": [
    "datasetStartDate = datetime(2017, 12, 16)\n",
    "datasetEndDate = datetime(2023, 11, 11)\n",
    "APISECRETSindex = 0\n",
    "fromDate = datasetStartDate\n",
    "dates = []\n",
    "while(fromDate < datasetEndDate ):\n",
    "    dates.append(fromDate)\n",
    "    fromDate = fromDate+timedelta(days=1)\n",
    "\n",
    "    \n",
    "    \n",
    "for fromDate in tqdm(dates):\n",
    "    weatherDetails = {}\n",
    "    toDate = fromDate+timedelta(days=1)\n",
    "    fromDateStr = fromDate.strftime('%Y/%m/%d')\n",
    "    toDateStr = toDate.strftime('%Y/%m/%d')\n",
    "    # print(\"Collecting data on\",fromDateStr )\n",
    "    for direction, zipcode in nearestZipCodes.items():\n",
    "        # print(\"Collecting data at\", direction, \"direction\")\n",
    "        weatherReport = GetWeatherDatafromZipCode(zipcode, fromDateStr, toDateStr, APISECRETS[APISECRETSindex]['clientID'],APISECRETS[APISECRETSindex]['clientSecret'])\n",
    "        if(weatherReport[0].get(\"Error\") is not None):\n",
    "            print(weatherReport[0][\"Error\"])\n",
    "            APISECRETSindex += 1\n",
    "            weatherReport = GetWeatherDatafromZipCode(zipcode, fromDateStr, toDateStr, APISECRETS[APISECRETSindex]['clientID'],APISECRETS[APISECRETSindex]['clientSecret']) \n",
    "               \n",
    "        for weather in weatherReport:\n",
    "            recoredDate = weather['dateTimeISO']\n",
    "            recoredDate = datetime.fromisoformat(recoredDate)\n",
    "            recoredDate = recoredDate.strftime(\"%Y-%m-%d %H:%M:%S\")\n",
    "            \n",
    "            if(weatherDetails.get(recoredDate) is None):\n",
    "                weatherDetails[recoredDate] = {}\n",
    "            for key, value in weather.items():\n",
    "                if(key == 'dateTimeISO' ):\n",
    "                    pass\n",
    "                else:\n",
    "                    weatherDetails[recoredDate][f'{key}_{direction}'] = value\n",
    "    jsonFileName = fromDate.strftime('%Y-%m-%d')\n",
    "    with open(f'Dataset/Weather Dataset/{jsonFileName}.json', 'w') as json_file:\n",
    "        json.dump(weatherDetails, json_file, indent=4)\n",
    "            \n",
    "    \n",
    "    \n",
    "\n"
   ]
  }
 ],
 "metadata": {
  "kernelspec": {
   "display_name": "Python 3",
   "language": "python",
   "name": "python3"
  },
  "language_info": {
   "codemirror_mode": {
    "name": "ipython",
    "version": 3
   },
   "file_extension": ".py",
   "mimetype": "text/x-python",
   "name": "python",
   "nbconvert_exporter": "python",
   "pygments_lexer": "ipython3",
   "version": "3.9.2"
  }
 },
 "nbformat": 4,
 "nbformat_minor": 2
}
