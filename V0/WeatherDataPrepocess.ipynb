{
 "cells": [
  {
   "cell_type": "code",
   "execution_count": 1,
   "metadata": {},
   "outputs": [],
   "source": [
    "import os\n",
    "import json\n",
    "import math\n",
    "import requests\n",
    "import pandas as pd\n",
    "from datetime import datetime, timedelta\n",
    "from Creds import *\n",
    "from tqdm import tqdm"
   ]
  },
  {
   "cell_type": "code",
   "execution_count": 2,
   "metadata": {},
   "outputs": [
    {
     "name": "stderr",
     "output_type": "stream",
     "text": [
      "100%|██████████| 2293/2293 [00:10<00:00, 214.17it/s]\n"
     ]
    },
    {
     "data": {
      "text/plain": [
       "Index(['day', 'tempF_North', 'dewpointF_North', 'windSpeedMPH_North',\n",
       "       'windDir_North', 'weather_North', 'tempF_East', 'dewpointF_East',\n",
       "       'windSpeedMPH_East', 'windDir_East', 'weather_East', 'tempF_South',\n",
       "       'dewpointF_South', 'windSpeedMPH_South', 'windDir_South',\n",
       "       'weather_South', 'tempF_West', 'dewpointF_West', 'windSpeedMPH_West',\n",
       "       'windDir_West', 'weather_West', 'tempF_currentLocation',\n",
       "       'dewpointF_currentLocation', 'windSpeedMPH_currentLocation',\n",
       "       'windDir_currentLocation', 'weather_currentLocation'],\n",
       "      dtype='object')"
      ]
     },
     "execution_count": 2,
     "metadata": {},
     "output_type": "execute_result"
    }
   ],
   "source": [
    "def LoadDataSet(folderPath: str) -> pd.DataFrame:\n",
    "    weatherData = [] \n",
    "    if(os.path.isdir(folderPath) and folderPath[-1]!=\"/\"):\n",
    "        print(\"enter a valid folderPath\")\n",
    "    fileList = os.listdir(folderPath)\n",
    "    for fileName in tqdm(fileList):\n",
    "        with open(folderPath+fileName,'r') as jsonFile:\n",
    "            fileData = json.load(jsonFile)\n",
    "        for date, weather in fileData.items():\n",
    "            fileData = {}\n",
    "            fileData['day'] = date\n",
    "            for key, value in weather.items():\n",
    "                fileData[key] = value\n",
    "            weatherData.append(fileData)\n",
    "\n",
    "    weatherData = pd.DataFrame(weatherData)\n",
    "    return weatherData\n",
    "    \n",
    "\n",
    "                \n",
    "weatherData = LoadDataSet(\"Dataset/Weather Dataset/\")\n",
    "weatherData.columns\n",
    "    "
   ]
  },
  {
   "cell_type": "code",
   "execution_count": 3,
   "metadata": {},
   "outputs": [],
   "source": [
    "weatherData.to_csv(\"Dataset/Weather Dataset/Colorado_and_30th_WeatherData.csv\",index=False,header=True)"
   ]
  }
 ],
 "metadata": {
  "kernelspec": {
   "display_name": "Python 3",
   "language": "python",
   "name": "python3"
  },
  "language_info": {
   "codemirror_mode": {
    "name": "ipython",
    "version": 3
   },
   "file_extension": ".py",
   "mimetype": "text/x-python",
   "name": "python",
   "nbconvert_exporter": "python",
   "pygments_lexer": "ipython3",
   "version": "3.9.2"
  }
 },
 "nbformat": 4,
 "nbformat_minor": 2
}
